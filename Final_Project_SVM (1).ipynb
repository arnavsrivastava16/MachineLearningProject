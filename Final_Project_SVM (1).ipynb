{
 "cells": [
  {
   "cell_type": "markdown",
   "metadata": {},
   "source": [
    "# Final Project (SVM)"
   ]
  },
  {
   "cell_type": "code",
   "execution_count": 1,
   "metadata": {},
   "outputs": [],
   "source": [
    "import numpy as np\n",
    "import numpy.random as r\n",
    "from sklearn.metrics import accuracy_score\n",
    "from sklearn.metrics import confusion_matrix\n",
    "from sklearn import svm\n",
    "import pandas as pd\n",
    "import matplotlib\n",
    "import matplotlib.pyplot as plt \n",
    "%matplotlib inline "
   ]
  },
  {
   "cell_type": "code",
   "execution_count": 2,
   "metadata": {},
   "outputs": [
    {
     "name": "stdout",
     "output_type": "stream",
     "text": [
      "(303, 14)\n"
     ]
    }
   ],
   "source": [
    "df = pd.read_csv('heartDisease.csv') \n",
    "print(df.shape)"
   ]
  },
  {
   "cell_type": "code",
   "execution_count": 3,
   "metadata": {},
   "outputs": [
    {
     "name": "stdout",
     "output_type": "stream",
     "text": [
      "(303, 14)\n"
     ]
    }
   ],
   "source": [
    "df1 = df.dropna(axis = 1)\n",
    "print(df1.shape)"
   ]
  },
  {
   "cell_type": "code",
   "execution_count": 4,
   "metadata": {},
   "outputs": [
    {
     "name": "stdout",
     "output_type": "stream",
     "text": [
      "(303, 14)\n"
     ]
    }
   ],
   "source": [
    "df2 = df.values\n",
    "print(df2.shape)"
   ]
  },
  {
   "cell_type": "code",
   "execution_count": 5,
   "metadata": {},
   "outputs": [
    {
     "name": "stdout",
     "output_type": "stream",
     "text": [
      "(303, 13)\n",
      "(303,)\n"
     ]
    }
   ],
   "source": [
    "X = df2[:,0:13]\n",
    "Y = df2[:,-1]\n",
    "print(X.shape)\n",
    "print(Y.shape)"
   ]
  },
  {
   "cell_type": "code",
   "execution_count": 6,
   "metadata": {},
   "outputs": [
    {
     "name": "stdout",
     "output_type": "stream",
     "text": [
      "(303, 13)\n",
      "(303,)\n"
     ]
    }
   ],
   "source": [
    "r.shuffle(X)\n",
    "r.shuffle(Y)\n",
    "print(X.shape)\n",
    "print(Y.shape)"
   ]
  },
  {
   "cell_type": "code",
   "execution_count": 7,
   "metadata": {},
   "outputs": [],
   "source": [
    "#Using 75:25 train:test split\n",
    "X_train = X[0:228]\n",
    "Y_train = Y[0:228]\n",
    "X_test = X[228:]\n",
    "Y_test = Y[228:]"
   ]
  },
  {
   "cell_type": "markdown",
   "metadata": {},
   "source": [
    "# SVM using Linear Kernel"
   ]
  },
  {
   "cell_type": "code",
   "execution_count": 8,
   "metadata": {},
   "outputs": [],
   "source": [
    "cVals_linear = np.geomspace(0.000000001, 0.1, 10)"
   ]
  },
  {
   "cell_type": "code",
   "execution_count": 9,
   "metadata": {},
   "outputs": [],
   "source": [
    "acc_train_svm_linear = []"
   ]
  },
  {
   "cell_type": "code",
   "execution_count": 10,
   "metadata": {},
   "outputs": [],
   "source": [
    "acc_test_svm_linear = []"
   ]
  },
  {
   "cell_type": "code",
   "execution_count": 11,
   "metadata": {},
   "outputs": [],
   "source": [
    "c_svm_linear = []"
   ]
  },
  {
   "cell_type": "code",
   "execution_count": 12,
   "metadata": {},
   "outputs": [],
   "source": [
    "def svm_linear(c):\n",
    "    svc_linear = svm.SVC(probability = False, kernel = 'linear', C = c)\n",
    "    svc_linear.fit(X_train, Y_train)\n",
    "    \n",
    "    #support_vectors = svc_linear.support_vectors_\n",
    "    #w = svc_linear.coef_\n",
    "    #intercept = svc_linear.intercept_\n",
    "    \n",
    "    print ('C = {}'.format(c))\n",
    "    #print ('Support Vectors =')\n",
    "    #print(support_vectors)\n",
    "    #print ('W =')\n",
    "    #print(w)\n",
    "    #print ('Intercept = {}'.format(intercept))\n",
    "\n",
    "    Yhat_svc_linear_train = svc_linear.predict(X_train)\n",
    "    acc_train = accuracy_score(Y_train, Yhat_svc_linear_train)\n",
    "    acc_train_svm_linear.append(acc_train)\n",
    "    \n",
    "    print('Train Accuracy = {0:f}'.format(acc_train))\n",
    "\n",
    "    Yhat_svc_linear_test = svc_linear.predict(X_test)\n",
    "    acc_test = accuracy_score(Y_test, Yhat_svc_linear_test)\n",
    "    acc_test_svm_linear.append(acc_test)\n",
    "    print('Test Accuracy = {0:f}'.format(acc_test))\n",
    "    \n",
    "    print('\\n')\n",
    "    \n",
    "    c_svm_linear.append(c)"
   ]
  },
  {
   "cell_type": "code",
   "execution_count": 13,
   "metadata": {},
   "outputs": [
    {
     "name": "stdout",
     "output_type": "stream",
     "text": [
      "C = 1e-09\n",
      "Train Accuracy = 0.552632\n",
      "Test Accuracy = 0.520000\n",
      "\n",
      "\n",
      "C = 7.742636826811278e-09\n",
      "Train Accuracy = 0.552632\n",
      "Test Accuracy = 0.520000\n",
      "\n",
      "\n",
      "C = 5.99484250318941e-08\n",
      "Train Accuracy = 0.552632\n",
      "Test Accuracy = 0.520000\n",
      "\n",
      "\n",
      "C = 4.6415888336127725e-07\n",
      "Train Accuracy = 0.552632\n",
      "Test Accuracy = 0.520000\n",
      "\n",
      "\n",
      "C = 3.5938136638046257e-06\n",
      "Train Accuracy = 0.552632\n",
      "Test Accuracy = 0.520000\n",
      "\n",
      "\n",
      "C = 2.782559402207126e-05\n",
      "Train Accuracy = 0.552632\n",
      "Test Accuracy = 0.520000\n",
      "\n",
      "\n",
      "C = 0.00021544346900318823\n",
      "Train Accuracy = 0.552632\n",
      "Test Accuracy = 0.520000\n",
      "\n",
      "\n",
      "C = 0.0016681005372000558\n",
      "Train Accuracy = 0.552632\n",
      "Test Accuracy = 0.520000\n",
      "\n",
      "\n",
      "C = 0.012915496650148827\n",
      "Train Accuracy = 0.552632\n",
      "Test Accuracy = 0.520000\n",
      "\n",
      "\n",
      "C = 0.1\n",
      "Train Accuracy = 0.605263\n",
      "Test Accuracy = 0.453333\n",
      "\n",
      "\n"
     ]
    }
   ],
   "source": [
    "for c in cVals_linear:\n",
    "    svm_linear(c)"
   ]
  },
  {
   "cell_type": "code",
   "execution_count": 14,
   "metadata": {},
   "outputs": [
    {
     "data": {
      "text/plain": [
       "<matplotlib.legend.Legend at 0x1a24a07b70>"
      ]
     },
     "execution_count": 14,
     "metadata": {},
     "output_type": "execute_result"
    },
    {
     "data": {
      "image/png": "[encoded data removed]",
      "text/plain": [
       "<Figure size 432x288 with 1 Axes>"
      ]
     },
     "metadata": {
      "needs_background": "light"
     },
     "output_type": "display_data"
    }
   ],
   "source": [
    "plt.title(\"Linear Kernel\")\n",
    "plt.plot(c_svm_linear, acc_train_svm_linear, 'bo-') \n",
    "plt.plot(c_svm_linear, acc_test_svm_linear,'go-') \n",
    "plt.grid()\n",
    "plt.xlabel('C')\n",
    "plt.ylabel('Accuracy')\n",
    "plt.legend(['Training Accuracy', 'Test Accuracy'], loc='lower right')"
   ]
  },
  {
   "cell_type": "markdown",
   "metadata": {},
   "source": [
    "# SVM using Radial Basis Function (RBF) Kernel"
   ]
  },
  {
   "cell_type": "code",
   "execution_count": 15,
   "metadata": {},
   "outputs": [],
   "source": [
    "cVals_rbf = np.geomspace(0.0000001, 1, 10)"
   ]
  },
  {
   "cell_type": "code",
   "execution_count": 16,
   "metadata": {},
   "outputs": [],
   "source": [
    "acc_train_svm_rbf = []"
   ]
  },
  {
   "cell_type": "code",
   "execution_count": 17,
   "metadata": {},
   "outputs": [],
   "source": [
    "acc_test_svm_rbf = []"
   ]
  },
  {
   "cell_type": "code",
   "execution_count": 18,
   "metadata": {},
   "outputs": [],
   "source": [
    "c_svm_rbf = []"
   ]
  },
  {
   "cell_type": "code",
   "execution_count": 19,
   "metadata": {},
   "outputs": [],
   "source": [
    "def svm_rbf(c):\n",
    "    svc_rbf = svm.SVC(probability = False, kernel = 'rbf', C = c, gamma = 'scale')\n",
    "    svc_rbf.fit(X_train, Y_train)\n",
    "\n",
    "    #support_vectors = svc_rbf.support_vectors_\n",
    "    #dual_coefficients = svc_rbf.dual_coef_\n",
    "    #intercept = svc_rbf.intercept_\n",
    "    \n",
    "    print ('C = {}'.format(c))\n",
    "    #print ('Support Vectors =')\n",
    "    #print(support_vectors)\n",
    "    #print ('Dual Coefficients =')\n",
    "    #print(dual_coefficients)\n",
    "    #print ('Intercept = {}'.format(intercept))\n",
    "    \n",
    "    Yhat_svc_rbf_train =  svc_rbf.predict(X_train)\n",
    "    acc_train = accuracy_score(Y_train, Yhat_svc_rbf_train)\n",
    "    acc_train_svm_rbf.append(acc_train)\n",
    "    print('Train Accuracy = {0:f}'.format(acc_train))\n",
    "    \n",
    "\n",
    "    Yhat_svc_rbf_test = svc_rbf.predict(X_test)\n",
    "    acc_test = accuracy_score(Y_test, Yhat_svc_rbf_test)\n",
    "    acc_test_svm_rbf.append(acc_test)\n",
    "    print('Test Accuracy = {0:f}'.format(acc_test))\n",
    "    \n",
    "    print('\\n')\n",
    "    \n",
    "    c_svm_rbf.append(c)"
   ]
  },
  {
   "cell_type": "code",
   "execution_count": 20,
   "metadata": {},
   "outputs": [
    {
     "name": "stdout",
     "output_type": "stream",
     "text": [
      "C = 1e-07\n",
      "Train Accuracy = 0.552632\n",
      "Test Accuracy = 0.520000\n",
      "\n",
      "\n",
      "C = 5.994842503189409e-07\n",
      "Train Accuracy = 0.552632\n",
      "Test Accuracy = 0.520000\n",
      "\n",
      "\n",
      "C = 3.5938136638046257e-06\n",
      "Train Accuracy = 0.552632\n",
      "Test Accuracy = 0.520000\n",
      "\n",
      "\n",
      "C = 2.1544346900318867e-05\n",
      "Train Accuracy = 0.552632\n",
      "Test Accuracy = 0.520000\n",
      "\n",
      "\n",
      "C = 0.0001291549665014884\n",
      "Train Accuracy = 0.552632\n",
      "Test Accuracy = 0.520000\n",
      "\n",
      "\n",
      "C = 0.000774263682681127\n",
      "Train Accuracy = 0.552632\n",
      "Test Accuracy = 0.520000\n",
      "\n",
      "\n",
      "C = 0.004641588833612782\n",
      "Train Accuracy = 0.552632\n",
      "Test Accuracy = 0.520000\n",
      "\n",
      "\n",
      "C = 0.02782559402207126\n",
      "Train Accuracy = 0.552632\n",
      "Test Accuracy = 0.520000\n",
      "\n",
      "\n",
      "C = 0.1668100537200059\n",
      "Train Accuracy = 0.552632\n",
      "Test Accuracy = 0.520000\n",
      "\n",
      "\n",
      "C = 1.0\n",
      "Train Accuracy = 0.723684\n",
      "Test Accuracy = 0.573333\n",
      "\n",
      "\n"
     ]
    }
   ],
   "source": [
    "for c in cVals_rbf:\n",
    "    svm_rbf(c)"
   ]
  },
  {
   "cell_type": "code",
   "execution_count": 21,
   "metadata": {},
   "outputs": [
    {
     "data": {
      "text/plain": [
       "<matplotlib.legend.Legend at 0x1a24b38f60>"
      ]
     },
     "execution_count": 21,
     "metadata": {},
     "output_type": "execute_result"
    },
    {
     "data": {
      "image/png": "[encoded data removed]",
      "text/plain": [
       "<Figure size 432x288 with 1 Axes>"
      ]
     },
     "metadata": {
      "needs_background": "light"
     },
     "output_type": "display_data"
    }
   ],
   "source": [
    "plt.title(\"RBF Kernel\")\n",
    "plt.plot(c_svm_rbf, acc_train_svm_rbf, 'bo-') \n",
    "plt.plot(c_svm_rbf, acc_test_svm_rbf,'go-') \n",
    "plt.grid()\n",
    "plt.xlabel('C')\n",
    "plt.ylabel('Accuracy')\n",
    "plt.legend(['Training Accuracy', 'Test Accuracy'], loc='upper left')"
   ]
  },
  {
   "cell_type": "markdown",
   "metadata": {},
   "source": [
    "# SVM using Polynomial Kernel"
   ]
  },
  {
   "cell_type": "code",
   "execution_count": 22,
   "metadata": {},
   "outputs": [],
   "source": [
    "cVals_poly = np.geomspace(0.00000001, 0.1, 10)"
   ]
  },
  {
   "cell_type": "code",
   "execution_count": 23,
   "metadata": {},
   "outputs": [],
   "source": [
    "acc_train_svm_poly = []"
   ]
  },
  {
   "cell_type": "code",
   "execution_count": 24,
   "metadata": {},
   "outputs": [],
   "source": [
    "acc_test_svm_poly = []"
   ]
  },
  {
   "cell_type": "code",
   "execution_count": 25,
   "metadata": {},
   "outputs": [],
   "source": [
    "c_svm_poly = []"
   ]
  },
  {
   "cell_type": "code",
   "execution_count": 26,
   "metadata": {},
   "outputs": [],
   "source": [
    "def svm_polynomial(c):\n",
    "    svc_polynomial =  svm.SVC(probability = False, kernel = 'poly', C = c, gamma = 'scale')\n",
    "    svc_polynomial.fit(X_train, Y_train)\n",
    "\n",
    "    #support_vectors = svc_polynomial.support_vectors_\n",
    "    #dual_coefficients = svc_polynomial.dual_coef_\n",
    "    #intercept = svc_polynomial.intercept_\n",
    "    \n",
    "    print ('C = {}'.format(c))\n",
    "    #print ('Support Vectors =')\n",
    "    #print(support_vectors)\n",
    "    #print ('Dual Coefficients =')\n",
    "    #print(dual_coefficients)\n",
    "    #print ('Intercept = {}'.format(intercept))\n",
    "    \n",
    "    Yhat_svc_poly_train = svc_polynomial.predict(X_train)\n",
    "    acc_train = accuracy_score(Y_train, Yhat_svc_poly_train)\n",
    "    acc_train_svm_poly.append(acc_train)\n",
    "    print('Train Accuracy = {0:f}'.format(acc_train))\n",
    "    \n",
    "    Yhat_svc_poly_test = svc_polynomial.predict(X_test)\n",
    "    acc_test = accuracy_score(Y_test, Yhat_svc_poly_test)\n",
    "    acc_test_svm_poly.append(acc_test)\n",
    "    print('Test Accuracy = {0:f}'.format(acc_test))\n",
    "    \n",
    "    print('\\n')\n",
    "    \n",
    "    c_svm_poly.append(c)"
   ]
  },
  {
   "cell_type": "code",
   "execution_count": 27,
   "metadata": {},
   "outputs": [
    {
     "name": "stdout",
     "output_type": "stream",
     "text": [
      "C = 1e-08\n",
      "Train Accuracy = 0.552632\n",
      "Test Accuracy = 0.520000\n",
      "\n",
      "\n",
      "C = 5.99484250318941e-08\n",
      "Train Accuracy = 0.552632\n",
      "Test Accuracy = 0.520000\n",
      "\n",
      "\n",
      "C = 3.5938136638046254e-07\n",
      "Train Accuracy = 0.552632\n",
      "Test Accuracy = 0.520000\n",
      "\n",
      "\n",
      "C = 2.1544346900318865e-06\n",
      "Train Accuracy = 0.552632\n",
      "Test Accuracy = 0.520000\n",
      "\n",
      "\n",
      "C = 1.2915496650148827e-05\n",
      "Train Accuracy = 0.552632\n",
      "Test Accuracy = 0.520000\n",
      "\n",
      "\n",
      "C = 7.742636826811278e-05\n",
      "Train Accuracy = 0.552632\n",
      "Test Accuracy = 0.520000\n",
      "\n",
      "\n",
      "C = 0.0004641588833612782\n",
      "Train Accuracy = 0.587719\n",
      "Test Accuracy = 0.493333\n",
      "\n",
      "\n",
      "C = 0.0027825594022071257\n",
      "Train Accuracy = 0.653509\n",
      "Test Accuracy = 0.506667\n",
      "\n",
      "\n",
      "C = 0.016681005372000592\n",
      "Train Accuracy = 0.688596\n",
      "Test Accuracy = 0.533333\n",
      "\n",
      "\n",
      "C = 0.1\n",
      "Train Accuracy = 0.706140\n",
      "Test Accuracy = 0.493333\n",
      "\n",
      "\n"
     ]
    }
   ],
   "source": [
    "for c in cVals_poly:\n",
    "    svm_polynomial(c)"
   ]
  },
  {
   "cell_type": "code",
   "execution_count": 28,
   "metadata": {},
   "outputs": [
    {
     "data": {
      "text/plain": [
       "<matplotlib.legend.Legend at 0x1a24c2e518>"
      ]
     },
     "execution_count": 28,
     "metadata": {},
     "output_type": "execute_result"
    },
    {
     "data": {
      "image/png": "[encoded data removed]",
      "text/plain": [
       "<Figure size 432x288 with 1 Axes>"
      ]
     },
     "metadata": {
      "needs_background": "light"
     },
     "output_type": "display_data"
    }
   ],
   "source": [
    "plt.title(\"Polynomial Kernel\")\n",
    "plt.plot(c_svm_poly, acc_train_svm_poly, 'bo-') \n",
    "plt.plot(c_svm_poly, acc_test_svm_poly,'go-') \n",
    "plt.grid()\n",
    "plt.xlabel('C')\n",
    "plt.ylabel('Accuracy')\n",
    "plt.legend(['Training Accuracy', 'Test Accuracy'], loc='lower right')"
   ]
  },
  {
   "cell_type": "code",
   "execution_count": null,
   "metadata": {},
   "outputs": [],
   "source": []
  },
  {
   "cell_type": "code",
   "execution_count": null,
   "metadata": {},
   "outputs": [],
   "source": []
  },
  {
   "cell_type": "code",
   "execution_count": null,
   "metadata": {},
   "outputs": [],
   "source": []
  },
  {
   "cell_type": "code",
   "execution_count": null,
   "metadata": {},
   "outputs": [],
   "source": []
  },
  {
   "cell_type": "code",
   "execution_count": null,
   "metadata": {},
   "outputs": [],
   "source": []
  },
  {
   "cell_type": "code",
   "execution_count": null,
   "metadata": {},
   "outputs": [],
   "source": []
  },
  {
   "cell_type": "code",
   "execution_count": null,
   "metadata": {},
   "outputs": [],
   "source": []
  }
 ],
 "metadata": {
  "kernelspec": {
   "display_name": "Python 3",
   "language": "python",
   "name": "python3"
  },
  "language_info": {
   "codemirror_mode": {
    "name": "ipython",
    "version": 3
   },
   "file_extension": ".py",
   "mimetype": "text/x-python",
   "name": "python",
   "nbconvert_exporter": "python",
   "pygments_lexer": "ipython3",
   "version": "3.7.1"
  }
 },
 "nbformat": 4,
 "nbformat_minor": 2
}
